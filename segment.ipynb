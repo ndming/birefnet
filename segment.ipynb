{
 "cells": [
  {
   "cell_type": "code",
   "execution_count": 5,
   "metadata": {},
   "outputs": [
    {
     "name": "stderr",
     "output_type": "stream",
     "text": [
      "c:\\Users\\ZODNGUY1\\packages\\micromamba\\envs\\segment\\lib\\site-packages\\tqdm\\auto.py:21: TqdmWarning: IProgress not found. Please update jupyter and ipywidgets. See https://ipywidgets.readthedocs.io/en/stable/user_install.html\n",
      "  from .autonotebook import tqdm as notebook_tqdm\n"
     ]
    }
   ],
   "source": [
    "from PIL import Image\n",
    "import matplotlib.pyplot as plt\n",
    "import torch\n",
    "from torchvision import transforms\n",
    "\n",
    "from models.birefnet import BiRefNet\n",
    "from utils import check_state_dict"
   ]
  },
  {
   "cell_type": "code",
   "execution_count": 6,
   "metadata": {},
   "outputs": [
    {
     "name": "stderr",
     "output_type": "stream",
     "text": [
      "C:\\Users\\ZODNGUY1\\AppData\\Local\\Temp\\ipykernel_26528\\4263500741.py:2: FutureWarning: You are using `torch.load` with `weights_only=False` (the current default value), which uses the default pickle module implicitly. It is possible to construct malicious pickle data which will execute arbitrary code during unpickling (See https://github.com/pytorch/pytorch/blob/main/SECURITY.md#untrusted-models for more details). In a future release, the default value for `weights_only` will be flipped to `True`. This limits the functions that could be executed during unpickling. Arbitrary objects will no longer be allowed to be loaded via this mode unless they are explicitly allowlisted by the user via `torch.serialization.add_safe_globals`. We recommend you start setting `weights_only=True` for any use case where you don't have full control of the loaded file. Please open an issue on GitHub for any issues related to this experimental feature.\n",
      "  state_dict = torch.load(\"weights/BiRefNet-general-epoch_244.pth\", map_location='cpu')\n"
     ]
    },
    {
     "name": "stdout",
     "output_type": "stream",
     "text": [
      "Model loaded\n"
     ]
    }
   ],
   "source": [
    "birefnet = BiRefNet(bb_pretrained=False)\n",
    "state_dict = torch.load(\"weights/BiRefNet-general-epoch_244.pth\", map_location='cpu')\n",
    "state_dict = check_state_dict(state_dict)\n",
    "birefnet.load_state_dict(state_dict)\n",
    "\n",
    "torch.set_float32_matmul_precision(['high', 'highest'][0])\n",
    "birefnet.to('cuda')\n",
    "birefnet.eval()\n",
    "birefnet.half()\n",
    "print(\"Model loaded\")"
   ]
  },
  {
   "cell_type": "code",
   "execution_count": 7,
   "metadata": {},
   "outputs": [],
   "source": [
    "def extract_object(birefnet, imagepath):\n",
    "    # Data settings\n",
    "    image_size = (1024, 1024)\n",
    "    transform_image = transforms.Compose([\n",
    "        transforms.Resize(image_size),\n",
    "        transforms.ToTensor(),\n",
    "        transforms.Normalize([0.485, 0.456, 0.406], [0.229, 0.224, 0.225])\n",
    "    ])\n",
    "\n",
    "    image = Image.open(imagepath)\n",
    "    input_images = transform_image(image).unsqueeze(0).to('cuda').half()\n",
    "\n",
    "    # Prediction\n",
    "    with torch.no_grad():\n",
    "        preds = birefnet(input_images)[-1].sigmoid().cpu()\n",
    "    pred = preds[0].squeeze()\n",
    "    pred_pil = transforms.ToPILImage()(pred)\n",
    "    mask = pred_pil.resize(image.size)\n",
    "    image.putalpha(mask)\n",
    "    return image, mask"
   ]
  },
  {
   "cell_type": "code",
   "execution_count": 8,
   "metadata": {},
   "outputs": [],
   "source": [
    "from pathlib import Path\n",
    "import os\n",
    "\n",
    "img_dir = Path(\"C:/Users/ZODNGUY1/datasets/zeiss/heart-bg/images\")\n",
    "out_dir = Path(\"C:/Users/ZODNGUY1/datasets/zeiss/heart/images\")\n",
    "os.makedirs(out_dir, exist_ok=True)"
   ]
  },
  {
   "cell_type": "markdown",
   "metadata": {},
   "source": [
    "#### Export PNG"
   ]
  },
  {
   "cell_type": "code",
   "execution_count": 9,
   "metadata": {},
   "outputs": [
    {
     "name": "stderr",
     "output_type": "stream",
     "text": [
      "Processing images: 565it [05:50,  1.61it/s]\n"
     ]
    }
   ],
   "source": [
    "from tqdm import tqdm\n",
    "\n",
    "for img_path in tqdm(img_dir.iterdir(), desc=\"Processing images\"):\n",
    "    image, _ = extract_object(birefnet, img_path)\n",
    "    output_path = out_dir / img_path.name\n",
    "    image.save(output_path)"
   ]
  },
  {
   "cell_type": "markdown",
   "metadata": {},
   "source": [
    "#### Export mask"
   ]
  },
  {
   "cell_type": "code",
   "execution_count": 10,
   "metadata": {},
   "outputs": [
    {
     "name": "stderr",
     "output_type": "stream",
     "text": [
      "Processing images: 446it [02:48,  2.64it/s]\n"
     ]
    }
   ],
   "source": [
    "from tqdm import tqdm\n",
    "\n",
    "for img_path in tqdm(img_dir.iterdir(), desc=\"Processing images\"):\n",
    "    image, mask = extract_object(birefnet, img_path)\n",
    "    output_name = img_path.name.split('_')[1]\n",
    "    output_path = out_dir / output_name\n",
    "    mask.save(output_path)"
   ]
  },
  {
   "cell_type": "markdown",
   "metadata": {},
   "source": [
    "#### Fix name"
   ]
  },
  {
   "cell_type": "code",
   "execution_count": 2,
   "metadata": {},
   "outputs": [],
   "source": [
    "from pathlib import Path\n",
    "import os\n",
    "\n",
    "old_dir = Path(\"C:/Users/ZODNGUY1/datasets/zeiss/heart-transparent/images_old\")\n",
    "new_dir = Path(\"C:/Users/ZODNGUY1/datasets/zeiss/heart-transparent/images\")\n",
    "os.makedirs(new_dir, exist_ok=True)"
   ]
  },
  {
   "cell_type": "code",
   "execution_count": 4,
   "metadata": {},
   "outputs": [
    {
     "name": "stderr",
     "output_type": "stream",
     "text": [
      "565it [00:01, 523.96it/s]\n"
     ]
    }
   ],
   "source": [
    "from shutil import copy2\n",
    "from tqdm import tqdm\n",
    "\n",
    "for img_path in tqdm(old_dir.glob(\"*.png\")):\n",
    "    if img_path.stem.isdigit() and len(img_path.stem) == 3:\n",
    "        new_name = f\"{int(img_path.stem)}.png\"\n",
    "        new_path = new_dir / new_name\n",
    "        copy2(img_path, new_path)"
   ]
  }
 ],
 "metadata": {
  "kernelspec": {
   "display_name": "segment",
   "language": "python",
   "name": "python3"
  },
  "language_info": {
   "codemirror_mode": {
    "name": "ipython",
    "version": 3
   },
   "file_extension": ".py",
   "mimetype": "text/x-python",
   "name": "python",
   "nbconvert_exporter": "python",
   "pygments_lexer": "ipython3",
   "version": "3.10.16"
  }
 },
 "nbformat": 4,
 "nbformat_minor": 2
}
